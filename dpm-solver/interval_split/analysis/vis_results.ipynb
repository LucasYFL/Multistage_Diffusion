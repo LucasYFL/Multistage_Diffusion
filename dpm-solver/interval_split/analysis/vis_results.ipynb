{
 "cells": [
  {
   "cell_type": "code",
   "execution_count": 1,
   "metadata": {},
   "outputs": [],
   "source": [
    "import numpy as np\n",
    "import torch\n",
    "import os\n",
    "import matplotlib.pyplot as plt"
   ]
  },
  {
   "cell_type": "code",
   "execution_count": 9,
   "metadata": {},
   "outputs": [],
   "source": [
    "## stage effect\n",
    "root = \"/scratch/qingqu_root/qingqu1/shared_data/dpm_experiments/interval_split_exp\"\n",
    "packages = os.listdir(root)\n",
    "ds_0 = []\n",
    "ds_1 = []\n",
    "ts = []\n",
    "pixel_space_d = 1\n",
    "distance = pixel_space_d*2/255\n",
    "for p in packages:\n",
    "    p_dir = os.path.join(root, p)\n",
    "    files = os.listdir(p_dir)\n",
    "    for f in files:\n",
    "        f_dir = os.path.join(p_dir, f)\n",
    "        data = torch.load(f_dir)\n",
    "        opt_sol = data[\"optimal_solutions\"]\n",
    "        opt_sol_0 = data[\"optimal_solution0s\"]\n",
    "        opt_sol_1 = data[\"optimal_solution1s\"]\n",
    "        ds0 = (torch.abs(opt_sol_0 - opt_sol) < distance).view(-1, 32 * 32 * 3).to(torch.float32).mean(axis=1)\n",
    "        ds1 = (torch.abs(opt_sol_1 - opt_sol) < distance).view(-1, 32 * 32 * 3).to(torch.float32).mean(axis=1)\n",
    "        ds_0.append(ds0)\n",
    "        ds_1.append(ds1)\n",
    "        ts.append(data[\"ts\"].view(-1)) \n",
    "ds_0 = torch.concatenate(ds_0)\n",
    "ds_1 = torch.concatenate(ds_1)\n",
    "ts = torch.concatenate(ts)\n",
    "index = torch.argsort(ts)\n",
    "plt.bar(ts[index], ds_0[index], width = 0.01)\n",
    "plt.savefig(\"dis_x0.png\")\n",
    "plt.clf()\n",
    "plt.bar(ts[index], ds_1[index], width = 0.01)\n",
    "plt.savefig(\"dis_x1.png\")"
   ]
  },
  {
   "cell_type": "code",
   "execution_count": 8,
   "metadata": {},
   "outputs": [
    {
     "ename": "TypeError",
     "evalue": "'<' not supported between instances of 'tuple' and 'int'",
     "output_type": "error",
     "traceback": [
      "\u001b[0;31m---------------------------------------------------------------------------\u001b[0m",
      "\u001b[0;31mTypeError\u001b[0m                                 Traceback (most recent call last)",
      "Cell \u001b[0;32mIn[8], line 1\u001b[0m\n\u001b[0;32m----> 1\u001b[0m torch\u001b[39m.\u001b[39;49mwhere(ds_0[index] \u001b[39m==\u001b[39;49m \u001b[39m1\u001b[39;49m)\u001b[39m<\u001b[39;49m\u001b[39m3000\u001b[39;49m\n",
      "\u001b[0;31mTypeError\u001b[0m: '<' not supported between instances of 'tuple' and 'int'"
     ]
    }
   ],
   "source": [
    "torch.where(ds_0[index] == 1)"
   ]
  },
  {
   "cell_type": "code",
   "execution_count": 13,
   "metadata": {},
   "outputs": [
    {
     "data": {
      "text/plain": [
       "tensor([[0.0095],\n",
       "        [0.0078],\n",
       "        [0.0103],\n",
       "        [0.0066],\n",
       "        [0.0074],\n",
       "        [0.0080],\n",
       "        [0.0087],\n",
       "        [0.0068],\n",
       "        [0.0072],\n",
       "        [0.0080],\n",
       "        [0.0077],\n",
       "        [0.0076],\n",
       "        [0.0102],\n",
       "        [0.0075],\n",
       "        [0.0086],\n",
       "        [0.0079],\n",
       "        [0.0083],\n",
       "        [0.0105]])"
      ]
     },
     "execution_count": 13,
     "metadata": {},
     "output_type": "execute_result"
    }
   ],
   "source": [
    "index = torch.where(ts > 0.95)\n",
    "(opt_sol_0 - opt_sol_1)[index]\n",
    "opt_sol_1[index].mean()\n",
    "data['ss'][index]"
   ]
  }
 ],
 "metadata": {
  "kernelspec": {
   "display_name": "score_sde_pytorch",
   "language": "python",
   "name": "python3"
  },
  "language_info": {
   "codemirror_mode": {
    "name": "ipython",
    "version": 3
   },
   "file_extension": ".py",
   "mimetype": "text/x-python",
   "name": "python",
   "nbconvert_exporter": "python",
   "pygments_lexer": "ipython3",
   "version": "3.8.16"
  },
  "orig_nbformat": 4,
  "vscode": {
   "interpreter": {
    "hash": "0e52fa4a43bfd3ffee50a90380ceed5ae0d154763ad915abd014330f5b290fed"
   }
  }
 },
 "nbformat": 4,
 "nbformat_minor": 2
}
