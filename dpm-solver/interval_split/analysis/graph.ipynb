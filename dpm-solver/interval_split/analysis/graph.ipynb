{
 "cells": [
  {
   "cell_type": "code",
   "execution_count": null,
   "metadata": {},
   "outputs": [],
   "source": [
    "import torch\n",
    "import os"
   ]
  },
  {
   "cell_type": "code",
   "execution_count": null,
   "metadata": {},
   "outputs": [],
   "source": [
    "def calculated_distance_infiles(t1, t2, distancefunc, root):\n",
    "    pkgs = os.listdir(root)\n",
    "    for pkg in pkgs:\n",
    "        data_path = os.path.join(root, pkg, f\"0_{t1:.4f}_{t2:.4f}.pth\")\n",
    "        datas = torch.load(data_path)\n",
    "        pass\n",
    "        "
   ]
  },
  {
   "cell_type": "code",
   "execution_count": null,
   "metadata": {},
   "outputs": [],
   "source": [
    "def similarityfunc(t1, t2):\n",
    "    pass"
   ]
  },
  {
   "cell_type": "code",
   "execution_count": null,
   "metadata": {},
   "outputs": [],
   "source": [
    "  root = \"/scratch/qingqu_root/qingqu1/shared_data/dpm_experiments/interval_split_graph_exp/\"\n",
    "  for t1 in torch.range(eps, 1, 0.05):\n",
    "    for t2 in torch.range(eps, 1, 0.05):\n",
    "        calculated_distance_files(t1, t2, similarityfunc, root)"
   ]
  }
 ],
 "metadata": {
  "language_info": {
   "name": "python"
  },
  "orig_nbformat": 4
 },
 "nbformat": 4,
 "nbformat_minor": 2
}
